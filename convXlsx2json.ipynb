{
 "cells": [
  {
   "cell_type": "code",
   "execution_count": null,
   "metadata": {},
   "outputs": [],
   "source": [
    "import pandas as pd\n",
    "import numpy as np\n",
    "from datetime import timedelta\n",
    "import zenhan\n",
    "from jeraconv import jeraconv\n",
    "j2w = jeraconv.J2W()"
   ]
  },
  {
   "cell_type": "code",
   "execution_count": null,
   "metadata": {},
   "outputs": [],
   "source": [
    "FILE_LIST = [\n",
    "    \"./rawdata/r2kentou-gyoukaku04.xlsx\",\n",
    "    \"./rawdata/r2kentou-kisei05.xlsx\",\n",
    "    \"./rawdata/r2teian-gyoukaku07.xlsx\",\n",
    "    \"./rawdata/r2teian-kisei07.xlsx\"\n",
    "]\n",
    "JSON_SUFFIX = \"20210118\" "
   ]
  },
  {
   "cell_type": "code",
   "execution_count": null,
   "metadata": {},
   "outputs": [],
   "source": [
    "df = pd.read_excel(FILE_LIST[0], header=[0,1])\n",
    "df.columns = [\"_\".join(x) if x[1][0:3] != \"Unn\" else x[0].replace('\\n','') for x in df.columns.ravel()]\n",
    "df = df.dropna(subset=[\"番号\"])"
   ]
  },
  {
   "cell_type": "code",
   "execution_count": null,
   "metadata": {},
   "outputs": [],
   "source": [
    "def conv_date(df, column):\n",
    "    tmp = df[column].apply(lambda x: str(x).replace('\\n','')).str.split('年', expand=True)\n",
    "    tmp.rename(columns={0: 'Y', 1: 'MD'}, inplace=True)\n",
    "    tmp['MD'] = tmp['MD'].apply(lambda x: zenhan.z2h(str(x)) if x is not None else '')\n",
    "    tmp['Y'] = tmp['Y'].apply(lambda x: str(j2w.convert('令和' + x + '年')) + '年' if x != 'nan' else '')\n",
    "    tmp['YMD'] = tmp['Y'] + tmp['MD']\n",
    "    return tmp['YMD'].apply(lambda x: pd.to_datetime(x, format=\"%Y年%m月%d日\") if x != '' else '')"
   ]
  },
  {
   "cell_type": "code",
   "execution_count": null,
   "metadata": {},
   "outputs": [],
   "source": [
    "df['所管省庁への検討要請日'] = conv_date(df, '所管省庁への検討要請日')\n",
    "df['回答取りまとめ日'] = conv_date(df, '回答取りまとめ日')"
   ]
  },
  {
   "cell_type": "code",
   "execution_count": null,
   "metadata": {},
   "outputs": [],
   "source": [
    "df2 = pd.read_excel(FILE_LIST[1], header=[0,1])\n",
    "df2.columns = [\"_\".join(x) if x[1][0:3] != \"Unn\" else x[0].replace('\\n','') for x in df2.columns.ravel()]\n",
    "df2 = df2.dropna(subset=[\"番号\"])\n",
    "df2['所管省庁への検討要請日'] = conv_date(df2, '所管省庁への検討要請日')\n",
    "df2['回答取りまとめ日'] = conv_date(df2, '回答取りまとめ日')"
   ]
  },
  {
   "cell_type": "code",
   "execution_count": null,
   "metadata": {},
   "outputs": [],
   "source": [
    "df2.head()"
   ]
  },
  {
   "cell_type": "code",
   "execution_count": null,
   "metadata": {},
   "outputs": [],
   "source": [
    "df3 = pd.read_excel(FILE_LIST[2], header=2)\n",
    "df3.rename(columns={'所管省庁への\\u3000\\u3000検討要請日': '所管省庁への検討要請日', '提案事項名\\n（タイトル）':'提案事項名', '提案主体名\\n（会社名・団体名）':'提案主体名'}, inplace=True)\n",
    "df3['所管省庁への検討要請日'] = conv_date(df3, '所管省庁への検討要請日')\n",
    "df3['回答取りまとめ日'] = conv_date(df3, '回答取りまとめ日')"
   ]
  },
  {
   "cell_type": "code",
   "execution_count": null,
   "metadata": {},
   "outputs": [],
   "source": [
    "df3.tail()"
   ]
  },
  {
   "cell_type": "code",
   "execution_count": null,
   "metadata": {},
   "outputs": [],
   "source": [
    "df4 = pd.read_excel(FILE_LIST[3], header=3)\n",
    "df4.rename(columns={'所管省庁への\\u3000\\u3000検討要請日': '所管省庁への検討要請日', '内閣府での\\n回答取りまとめ\\n日':'回答取りまとめ日', '提案事項名\\n（タイトル）':'提案事項名', '提案主体名\\n（会社名・団体名）':'提案主体名'}, inplace=True)\n",
    "df4['所管省庁への検討要請日'] = pd.to_datetime('1900-01-01') + pd.to_timedelta(df4['所管省庁への検討要請日'],'D')\n",
    "df4['回答取りまとめ日'] = pd.to_datetime('1900-01-01') + pd.to_timedelta(df4['回答取りまとめ日'],'D')"
   ]
  },
  {
   "cell_type": "code",
   "execution_count": null,
   "metadata": {},
   "outputs": [],
   "source": [
    "df4.tail()"
   ]
  },
  {
   "cell_type": "code",
   "execution_count": null,
   "metadata": {
    "tags": []
   },
   "outputs": [],
   "source": [
    "df_gyosei = pd.merge(df4, df2, how='left', on='番号').drop(columns=[\n",
    "    '提案事項','提案主体','所管省庁', #'回答参照先'\n",
    "    'ワーキング・グループにおける\\n処理方針'])\n",
    "def a(x):\n",
    "    try:\n",
    "        tmp = x['所管省庁への検討要請日_y']\n",
    "        if tmp is pd.NaT:\n",
    "            tmp = x['所管省庁への検討要請日_x']\n",
    "    except:\n",
    "        print(x)\n",
    "    return tmp\n",
    "df_gyosei['所管省庁への検討要請日_y'] = df_gyosei.apply(a, raw=False, axis=1)\n",
    "def b(x):\n",
    "    try:\n",
    "        tmp = x['回答取りまとめ日_x']\n",
    "        if tmp == pd.NaT:\n",
    "            tmp = x['回答取りまとめ日_y']\n",
    "    except:\n",
    "        print(x)\n",
    "    return tmp\n",
    "df_gyosei['回答取りまとめ日_x'] = df_gyosei.apply(b, raw=False, axis=1)\n",
    "df_gyosei = df_gyosei.drop(columns=['所管省庁への検討要請日_x', '回答取りまとめ日_y'])\n",
    "df_gyosei.rename(columns={\n",
    "    '所管省庁への検討要請日_y': '所管省庁への検討要請日',\n",
    "    '回答取りまとめ日_x': '回答取りまとめ日',\n",
    "    '提案事項名': '提案事項',\n",
    "    '提案主体名': '提案主体',\n",
    "    '所管省庁_x': '所管省庁',\n",
    "    '制度の所管省庁': '所管省庁',\n",
    "    '備考_y': 'ワーキング・グループにおける処理方針'\n",
    "}\n",
    ", inplace=True)\n",
    "df_gyosei['区分']='行政改革'\n",
    "df_gyosei['通番']=df_gyosei['番号'].map('行-{:05d}'.format)\n",
    "df_gyosei.head()"
   ]
  },
  {
   "cell_type": "code",
   "execution_count": null,
   "metadata": {},
   "outputs": [],
   "source": [
    "df_kisei = pd.merge(df3, df, how='left', on='番号').drop(columns=[\n",
    "    '提案事項','提案主体','所管省庁_y','備考_x'])\n",
    "df_kisei['所管省庁への検討要請日_y'] = df_kisei.apply(a, raw=False, axis=1)\n",
    "df_kisei['回答取りまとめ日_x'] = df_kisei.apply(b, raw=False, axis=1)\n",
    "df_kisei = df_kisei.drop(columns=['所管省庁への検討要請日_x', '回答取りまとめ日_y'])\n",
    "df_kisei.rename(columns={\n",
    "    '所管省庁への検討要請日_y': '所管省庁への検討要請日',\n",
    "    '回答取りまとめ日_x': '回答取りまとめ日',\n",
    "    '提案事項名': '提案事項',\n",
    "    '提案主体名': '提案主体',\n",
    "    '所管省庁_x': '所管省庁',\n",
    "    '備考_y': 'ワーキング・グループにおける処理方針'\n",
    "}\n",
    ", inplace=True)\n",
    "df_kisei['区分']='規制改革'\n",
    "df_kisei['通番']=df_kisei['番号'].map('規-{:05d}'.format)\n",
    "df_kisei.head()"
   ]
  },
  {
   "cell_type": "code",
   "execution_count": null,
   "metadata": {},
   "outputs": [],
   "source": [
    "df_all = pd.concat([df_gyosei,df_kisei], ignore_index=True)"
   ]
  },
  {
   "source": [
    "## タグ付処理"
   ],
   "cell_type": "markdown",
   "metadata": {}
  },
  {
   "cell_type": "code",
   "execution_count": null,
   "metadata": {},
   "outputs": [],
   "source": [
    "import MeCab\n",
    "tagger = MeCab.Tagger(\"-Ochasen -u ./dict/local_dict.dic\")"
   ]
  },
  {
   "cell_type": "code",
   "execution_count": null,
   "metadata": {},
   "outputs": [],
   "source": [
    "def get_word_bag(text):\n",
    "    try:\n",
    "        tag = tagger.parseToNode(text)\n",
    "        words = set()\n",
    "        while tag:\n",
    "            feature = tag.feature.split(\",\")\n",
    "            if feature[0] == \"名詞\" and len(tag.surface) >= 2:\n",
    "                words.add(tag.surface)\n",
    "            tag = tag.next\n",
    "        return list(words)\n",
    "    except:\n",
    "        return []"
   ]
  },
  {
   "cell_type": "code",
   "execution_count": null,
   "metadata": {},
   "outputs": [],
   "source": [
    "df_all.columns"
   ]
  },
  {
   "cell_type": "code",
   "execution_count": null,
   "metadata": {},
   "outputs": [],
   "source": [
    "all_text = df_all['提案事項'] + \\\n",
    "           df_all['提案の具体的内容'].replace(np.nan, '', regex=True) + \\\n",
    "           df_all['提案理由'].replace(np.nan, '', regex=True) + \\\n",
    "           df_all['所管省庁の検討結果_制度の現状'].replace(np.nan, '', regex=True) + \\\n",
    "           df_all['所管省庁の検討結果_対応の概要'].replace(np.nan, '', regex=True) + \\\n",
    "           df_all['所管省庁の検討結果_該当法令等'].replace(np.nan, '', regex=True)\n",
    "tmp = all_text.apply(get_word_bag)"
   ]
  },
  {
   "cell_type": "code",
   "execution_count": null,
   "metadata": {},
   "outputs": [],
   "source": [
    "import json\n",
    "\n",
    "with open('./dict/tag.json', encoding='utf-8') as json_file:\n",
    "    rules_json = json.load(json_file)\n",
    "\n",
    "def get_summary_tag(words):\n",
    "    tags = []\n",
    "    rules = rules_json['rules']\n",
    "\n",
    "    for rule in rules:\n",
    "        if any(item in words for item in rule['def']):\n",
    "            tags.append(rule['tag'])\n",
    "    return '\\n'.join(map(str,tags))"
   ]
  },
  {
   "cell_type": "code",
   "execution_count": null,
   "metadata": {},
   "outputs": [],
   "source": [
    "df_all['タグ'] = tmp.apply(get_summary_tag)"
   ]
  },
  {
   "source": [
    "## データ保存"
   ],
   "cell_type": "markdown",
   "metadata": {}
  },
  {
   "cell_type": "code",
   "execution_count": null,
   "metadata": {},
   "outputs": [],
   "source": [
    "# 概要\n",
    "df_all['UID'] = df_all.index.map('UID{:05d}'.format)\n",
    "df_all.drop_duplicates(subset=['通番'], inplace=True)\n",
    "df_all[['UID','番号', '回答取りまとめ日', '提案事項', '提案主体', '所管省庁', '備考', '所管省庁への検討要請日','所管省庁の検討結果_対応の分類',\n",
    "        'ワーキング・グループにおける処理方針', '区分', '通番','タグ']].to_json('./s3static/src/assets/data{}.json'.format(JSON_SUFFIX), orient='records')\n",
    "# 詳細\n",
    "df_detailed = df_all[['UID','提案の具体的内容', '提案理由', '所管省庁の検討結果_制度の現状', '所管省庁の検討結果_該当法令等',\n",
    "       '所管省庁の検討結果_対応の分類', '所管省庁の検討結果_対応の概要']]\n",
    "df_detailed = df_detailed.set_index('UID')\n",
    "df_detailed.dropna(subset=['提案の具体的内容'], inplace=True) \n",
    "#df_detailed.drop_duplicates(inplace=True)     \n",
    "df_detailed.to_json('./s3static/public/data/data{}.json'.format(JSON_SUFFIX), orient='index')"
   ]
  },
  {
   "cell_type": "code",
   "execution_count": null,
   "metadata": {},
   "outputs": [],
   "source": [
    "df_all"
   ]
  },
  {
   "cell_type": "code",
   "execution_count": null,
   "metadata": {},
   "outputs": [],
   "source": []
  }
 ],
 "metadata": {
  "kernelspec": {
   "display_name": "Python 3",
   "language": "python",
   "name": "python3"
  },
  "language_info": {
   "codemirror_mode": {
    "name": "ipython",
    "version": 3
   },
   "file_extension": ".py",
   "mimetype": "text/x-python",
   "name": "python",
   "nbconvert_exporter": "python",
   "pygments_lexer": "ipython3",
   "version": "3.7.6-final"
  }
 },
 "nbformat": 4,
 "nbformat_minor": 4
}