{
 "cells": [
  {
   "cell_type": "code",
   "execution_count": 1,
   "metadata": {},
   "outputs": [],
   "source": [
    "import pandas as pd\n",
    "import numpy as np\n",
    "from datetime import timedelta\n",
    "import zenhan\n",
    "from jeraconv import jeraconv\n",
    "j2w = jeraconv.J2W()"
   ]
  },
  {
   "cell_type": "code",
   "execution_count": 2,
   "metadata": {},
   "outputs": [],
   "source": [
    "FILE_LIST = [    \n",
    "    \"./rawdata/r2kentou-gyoukaku09.xlsx\",\n",
    "    \"./rawdata/r2kentou-kisei10.xlsx\",\n",
    "    \"./rawdata/r2teian-gyoukaku12.xlsx\",\n",
    "    \"./rawdata/r2teian-kisei12.xlsx\",\n",
    "]\n",
    "JSON_SUFFIX = \"20210420\" "
   ]
  },
  {
   "cell_type": "code",
   "execution_count": 3,
   "metadata": {},
   "outputs": [
    {
     "output_type": "stream",
     "name": "stderr",
     "text": [
      "ipykernel_launcher:2: FutureWarning: Index.ravel returning ndarray is deprecated; in a future version this will return a view on self.\n"
     ]
    }
   ],
   "source": [
    "df = pd.read_excel(FILE_LIST[0], header=[0,1])\n",
    "df.columns = [\"_\".join(x) if isinstance(x[1], str) and x[1][0:3] != \"Unn\" else x[0].replace('\\n','') for x in df.columns.ravel()]\n",
    "df = df.dropna(subset=[\"番号\"])"
   ]
  },
  {
   "cell_type": "code",
   "execution_count": 4,
   "metadata": {},
   "outputs": [],
   "source": [
    "def helper(x):\n",
    "    if x!='nan' and x is not None:\n",
    "        try:\n",
    "            y = str(j2w.convert('令和' + zenhan.z2h(str(x[-1])) + '年')) + '年'\n",
    "        except:\n",
    "            return ''\n",
    "    else:\n",
    "        y = ''\n",
    "    return y\n",
    "\n",
    "def conv_date(df, column):\n",
    "    tmp = df[column].apply(lambda x: str(x).replace('\\n','')).str.split('年', expand=True)\n",
    "    tmp.rename(columns={0: 'Y', 1: 'MD'}, inplace=True)\n",
    "    try:\n",
    "        tmp['MD'] = tmp['MD'].apply(lambda x: zenhan.z2h(str(x)) if x is not None else '')\n",
    "    except:\n",
    "        pass\n",
    "    #tmp['Y'] = tmp['Y'].apply(lambda x: str(j2w.convert('令和' + zenhan.z2h(str(x)) + '年')) + '年' if x != 'nan' and x is not None else '')\n",
    "    tmp['Y'] = tmp['Y'].apply(lambda x: helper(x))\n",
    "    tmp['YMD'] = tmp['Y'] + tmp['MD']\n",
    "    return tmp['YMD'].apply(lambda x: pd.to_datetime(x, format=\"%Y年%m月%d日\") if x != '' else '')"
   ]
  },
  {
   "cell_type": "code",
   "execution_count": 5,
   "metadata": {},
   "outputs": [],
   "source": [
    "df['所管省庁への検討要請日'] = conv_date(df, '所管省庁への検討要請日')\n",
    "df['回答取りまとめ日'] = conv_date(df, '回答取りまとめ日')"
   ]
  },
  {
   "cell_type": "code",
   "execution_count": 6,
   "metadata": {},
   "outputs": [
    {
     "output_type": "stream",
     "name": "stderr",
     "text": [
      "ipykernel_launcher:2: FutureWarning: Index.ravel returning ndarray is deprecated; in a future version this will return a view on self.\n"
     ]
    }
   ],
   "source": [
    "df2 = pd.read_excel(FILE_LIST[1], header=[0,1])\n",
    "df2.columns = [\"_\".join(x) if isinstance(x[1], str) and x[1][0:3] != \"Unn\" else x[0].replace('\\n','') for x in df2.columns.ravel()]\n",
    "df2 = df2.dropna(subset=[\"番号\"])\n",
    "df2['所管省庁への検討要請日'] = conv_date(df2, '所管省庁への検討要請日')\n",
    "df2['回答取りまとめ日'] = conv_date(df2, '回答取りまとめ日')"
   ]
  },
  {
   "cell_type": "code",
   "execution_count": 7,
   "metadata": {},
   "outputs": [
    {
     "output_type": "execute_result",
     "data": {
      "text/plain": [
       "    番号 所管省庁への検討要請日   回答取りまとめ日                                        提案事項  \\\n",
       "0  1.0  2020-10-19 2020-11-24  技術士（農業部門）及び技術士補（農業部門）登録者の（農業）普及指導員への任用について   \n",
       "1  2.0  2020-10-19 2020-11-09                          法務局の登記簿謄本と公図のデジタル化   \n",
       "2  3.0  2020-10-19 2020-11-24                                      保険について   \n",
       "3  5.0  2020-10-19 2020-11-09                       成人向け作品におけるモザイクや消しについて   \n",
       "4  6.0  2020-10-19 2020-11-09                                     免許更新手続き   \n",
       "\n",
       "                                            提案の具体的内容  \\\n",
       "0  平成16年度まで普及職員の資格試験は「改良普及員」と「専門技術員」の２つが実施されていました...   \n",
       "1  現在、不動産の登記簿謄本や商業謄本（会社謄本）は紙データ（ＰＤＦデータ）で法務局から受け取ら...   \n",
       "2  コロナ禍の中ご苦労様です。私茅ヶ崎市在住の者ですが、社会保険加入と国民健康保険の切り替えが自...   \n",
       "3  成人向けの性的な描写におけるモザイク等の修正が必要とされている現状の無意味な規制を撤廃するべ...   \n",
       "4                1 更新手続きにかかる無駄な費用のカット\\n2 更新手続きのデジタル化   \n",
       "\n",
       "                                                提案理由 提案主体      所管省庁  \\\n",
       "0  普及指導員は高度な普及事業を担当する即戦力の技術者として任用されることから「普及指導員資格試...   個人      農林水産   \n",
       "1  現在、不動産の登記簿謄本や商業謄本（会社謄本）は紙データ（ＰＤＦデータ）で法務局から受け取ら...   個人       法務省   \n",
       "2  今後のデジタル化に伴いマイナンバーカードの利点をアナログからデジタル化活用し無駄な動きが無い...   個人     厚生労働省   \n",
       "3  現在成人向けコンテンツにおける性器に対して掛けられている修正は世界的に見てもその必要性が疑問...   個人  警察庁\\n法務省   \n",
       "4  （１）　更新手続きにかかる無駄な費用のカット\\nア　教本類のデジタル化\\n　　最も必要のない...   個人       警察庁   \n",
       "\n",
       "                                     所管省庁の検討結果_制度の現状  \\\n",
       "0  普及指導員は、都道府県職員の役職であり、都道府県知事が任用するものです。このため、原則普及指...   \n",
       "1  不動産登記手続及び商業・法人登記手続においては，登記事項証明書，地図，建物所在図，地図に準ず...   \n",
       "2  　社会保険加入について、国保保険者に自動的に伝える仕組みについては、現時点では、社会保険の保...   \n",
       "3  刑法第175条は、「成人向けの性的な描写におけるモザイク等の修正が必要」という規制を規定して...   \n",
       "4  １　教本について　\\n　更新時講習の実施方法については、道路交通法施行規則第38条第11項第...   \n",
       "\n",
       "                                     所管省庁の検討結果_該当法令等  \\\n",
       "0  農業改良助長法施行令（昭和27年政令第148号）第３条第２号、農業改良助長法施行令に規定する...   \n",
       "1  不動産登記法第１１９条及び１２０条，商業登記法第１０条，電気通信回線による登記情報の提供に関...   \n",
       "2                                                NaN   \n",
       "3                                                 なし   \n",
       "4  道路交通法施行規則第38条第11項第１号\\n道路交通法第101条第１項、第５項及び第６項\\n...   \n",
       "\n",
       "                   所管省庁の検討結果_対応の分類  \\\n",
       "0                       現行制度下で対応可能   \n",
       "1                             対応不可   \n",
       "2                             対応不可   \n",
       "3                             事実誤認   \n",
       "4  １\\n検討を予定\\n\\n２\\n対応不可\\n\\n３\\n検討を予定   \n",
       "\n",
       "                                     所管省庁の検討結果_対応の概要  ワーキング・グループにおける処理方針  \n",
       "0  「農業改良助長法施行令（昭和27年政令第148号）第３条第２号」及び「農業改良助長法施行令に...                 NaN  \n",
       "1  登記制度は，登記記録に記録された内容を公示することにより，国民の権利の保全や商号，会社等に係...                 NaN  \n",
       "2                                   制度の現状欄に記載のとおりです。                 NaN  \n",
       "3  制度の現状欄に記載のとおり「規制」についての事実誤認があります。\\nなお、捜査機関においては...                 NaN  \n",
       "4  １　教本について　\\n　教本を有効活用することは、安全な運転の継続に資するものであると考えて...                 NaN  "
      ],
      "text/html": "<div>\n<style scoped>\n    .dataframe tbody tr th:only-of-type {\n        vertical-align: middle;\n    }\n\n    .dataframe tbody tr th {\n        vertical-align: top;\n    }\n\n    .dataframe thead th {\n        text-align: right;\n    }\n</style>\n<table border=\"1\" class=\"dataframe\">\n  <thead>\n    <tr style=\"text-align: right;\">\n      <th></th>\n      <th>番号</th>\n      <th>所管省庁への検討要請日</th>\n      <th>回答取りまとめ日</th>\n      <th>提案事項</th>\n      <th>提案の具体的内容</th>\n      <th>提案理由</th>\n      <th>提案主体</th>\n      <th>所管省庁</th>\n      <th>所管省庁の検討結果_制度の現状</th>\n      <th>所管省庁の検討結果_該当法令等</th>\n      <th>所管省庁の検討結果_対応の分類</th>\n      <th>所管省庁の検討結果_対応の概要</th>\n      <th>ワーキング・グループにおける処理方針</th>\n    </tr>\n  </thead>\n  <tbody>\n    <tr>\n      <th>0</th>\n      <td>1.0</td>\n      <td>2020-10-19</td>\n      <td>2020-11-24</td>\n      <td>技術士（農業部門）及び技術士補（農業部門）登録者の（農業）普及指導員への任用について</td>\n      <td>平成16年度まで普及職員の資格試験は「改良普及員」と「専門技術員」の２つが実施されていました...</td>\n      <td>普及指導員は高度な普及事業を担当する即戦力の技術者として任用されることから「普及指導員資格試...</td>\n      <td>個人</td>\n      <td>農林水産</td>\n      <td>普及指導員は、都道府県職員の役職であり、都道府県知事が任用するものです。このため、原則普及指...</td>\n      <td>農業改良助長法施行令（昭和27年政令第148号）第３条第２号、農業改良助長法施行令に規定する...</td>\n      <td>現行制度下で対応可能</td>\n      <td>「農業改良助長法施行令（昭和27年政令第148号）第３条第２号」及び「農業改良助長法施行令に...</td>\n      <td>NaN</td>\n    </tr>\n    <tr>\n      <th>1</th>\n      <td>2.0</td>\n      <td>2020-10-19</td>\n      <td>2020-11-09</td>\n      <td>法務局の登記簿謄本と公図のデジタル化</td>\n      <td>現在、不動産の登記簿謄本や商業謄本（会社謄本）は紙データ（ＰＤＦデータ）で法務局から受け取ら...</td>\n      <td>現在、不動産の登記簿謄本や商業謄本（会社謄本）は紙データ（ＰＤＦデータ）で法務局から受け取ら...</td>\n      <td>個人</td>\n      <td>法務省</td>\n      <td>不動産登記手続及び商業・法人登記手続においては，登記事項証明書，地図，建物所在図，地図に準ず...</td>\n      <td>不動産登記法第１１９条及び１２０条，商業登記法第１０条，電気通信回線による登記情報の提供に関...</td>\n      <td>対応不可</td>\n      <td>登記制度は，登記記録に記録された内容を公示することにより，国民の権利の保全や商号，会社等に係...</td>\n      <td>NaN</td>\n    </tr>\n    <tr>\n      <th>2</th>\n      <td>3.0</td>\n      <td>2020-10-19</td>\n      <td>2020-11-24</td>\n      <td>保険について</td>\n      <td>コロナ禍の中ご苦労様です。私茅ヶ崎市在住の者ですが、社会保険加入と国民健康保険の切り替えが自...</td>\n      <td>今後のデジタル化に伴いマイナンバーカードの利点をアナログからデジタル化活用し無駄な動きが無い...</td>\n      <td>個人</td>\n      <td>厚生労働省</td>\n      <td>社会保険加入について、国保保険者に自動的に伝える仕組みについては、現時点では、社会保険の保...</td>\n      <td>NaN</td>\n      <td>対応不可</td>\n      <td>制度の現状欄に記載のとおりです。</td>\n      <td>NaN</td>\n    </tr>\n    <tr>\n      <th>3</th>\n      <td>5.0</td>\n      <td>2020-10-19</td>\n      <td>2020-11-09</td>\n      <td>成人向け作品におけるモザイクや消しについて</td>\n      <td>成人向けの性的な描写におけるモザイク等の修正が必要とされている現状の無意味な規制を撤廃するべ...</td>\n      <td>現在成人向けコンテンツにおける性器に対して掛けられている修正は世界的に見てもその必要性が疑問...</td>\n      <td>個人</td>\n      <td>警察庁\\n法務省</td>\n      <td>刑法第175条は、「成人向けの性的な描写におけるモザイク等の修正が必要」という規制を規定して...</td>\n      <td>なし</td>\n      <td>事実誤認</td>\n      <td>制度の現状欄に記載のとおり「規制」についての事実誤認があります。\\nなお、捜査機関においては...</td>\n      <td>NaN</td>\n    </tr>\n    <tr>\n      <th>4</th>\n      <td>6.0</td>\n      <td>2020-10-19</td>\n      <td>2020-11-09</td>\n      <td>免許更新手続き</td>\n      <td>1 更新手続きにかかる無駄な費用のカット\\n2 更新手続きのデジタル化</td>\n      <td>（１）　更新手続きにかかる無駄な費用のカット\\nア　教本類のデジタル化\\n　　最も必要のない...</td>\n      <td>個人</td>\n      <td>警察庁</td>\n      <td>１　教本について　\\n　更新時講習の実施方法については、道路交通法施行規則第38条第11項第...</td>\n      <td>道路交通法施行規則第38条第11項第１号\\n道路交通法第101条第１項、第５項及び第６項\\n...</td>\n      <td>１\\n検討を予定\\n\\n２\\n対応不可\\n\\n３\\n検討を予定</td>\n      <td>１　教本について　\\n　教本を有効活用することは、安全な運転の継続に資するものであると考えて...</td>\n      <td>NaN</td>\n    </tr>\n  </tbody>\n</table>\n</div>"
     },
     "metadata": {},
     "execution_count": 7
    }
   ],
   "source": [
    "df2.head()"
   ]
  },
  {
   "cell_type": "code",
   "execution_count": 8,
   "metadata": {},
   "outputs": [],
   "source": [
    "df3 = pd.read_excel(FILE_LIST[2], header=2)\n",
    "df3.rename(columns={'所管省庁への\\u3000\\u3000検討要請日': '所管省庁への検討要請日', '提案事項名\\n（タイトル）':'提案事項名', '提案主体名\\n（会社名・団体名）':'提案主体名'}, inplace=True)\n",
    "df3['所管省庁への検討要請日'] = conv_date(df3, '所管省庁への検討要請日')\n",
    "df3['回答取りまとめ日'] = conv_date(df3, '回答取りまとめ日')"
   ]
  },
  {
   "cell_type": "code",
   "execution_count": 9,
   "metadata": {},
   "outputs": [
    {
     "output_type": "execute_result",
     "data": {
      "text/plain": [
       "      番号 所管省庁への検討要請日   回答取りまとめ日                  提案事項名 提案主体名  所管省庁          備考\n",
       "716  717  2021-03-24        NaT    国・県・市町村で行われる選挙事務の改革    個人   総務省         NaN\n",
       "717  718  2021-03-24 2021-04-16           国勢調査の書類紛失等防止    個人   総務省   番号76の回答参照\n",
       "718  719  2021-03-24 2021-04-16  IP電話(例：050-)からの緊急電話発信    個人   総務省         NaN\n",
       "719  720  2021-03-24        NaT         オンライン登記簿申請について    個人   法務省         NaN\n",
       "720  721  2021-03-24 2021-04-16    国家公務員の２年ごとの人事異動について    個人  内閣官房  番号588の回答参照"
      ],
      "text/html": "<div>\n<style scoped>\n    .dataframe tbody tr th:only-of-type {\n        vertical-align: middle;\n    }\n\n    .dataframe tbody tr th {\n        vertical-align: top;\n    }\n\n    .dataframe thead th {\n        text-align: right;\n    }\n</style>\n<table border=\"1\" class=\"dataframe\">\n  <thead>\n    <tr style=\"text-align: right;\">\n      <th></th>\n      <th>番号</th>\n      <th>所管省庁への検討要請日</th>\n      <th>回答取りまとめ日</th>\n      <th>提案事項名</th>\n      <th>提案主体名</th>\n      <th>所管省庁</th>\n      <th>備考</th>\n    </tr>\n  </thead>\n  <tbody>\n    <tr>\n      <th>716</th>\n      <td>717</td>\n      <td>2021-03-24</td>\n      <td>NaT</td>\n      <td>国・県・市町村で行われる選挙事務の改革</td>\n      <td>個人</td>\n      <td>総務省</td>\n      <td>NaN</td>\n    </tr>\n    <tr>\n      <th>717</th>\n      <td>718</td>\n      <td>2021-03-24</td>\n      <td>2021-04-16</td>\n      <td>国勢調査の書類紛失等防止</td>\n      <td>個人</td>\n      <td>総務省</td>\n      <td>番号76の回答参照</td>\n    </tr>\n    <tr>\n      <th>718</th>\n      <td>719</td>\n      <td>2021-03-24</td>\n      <td>2021-04-16</td>\n      <td>IP電話(例：050-)からの緊急電話発信</td>\n      <td>個人</td>\n      <td>総務省</td>\n      <td>NaN</td>\n    </tr>\n    <tr>\n      <th>719</th>\n      <td>720</td>\n      <td>2021-03-24</td>\n      <td>NaT</td>\n      <td>オンライン登記簿申請について</td>\n      <td>個人</td>\n      <td>法務省</td>\n      <td>NaN</td>\n    </tr>\n    <tr>\n      <th>720</th>\n      <td>721</td>\n      <td>2021-03-24</td>\n      <td>2021-04-16</td>\n      <td>国家公務員の２年ごとの人事異動について</td>\n      <td>個人</td>\n      <td>内閣官房</td>\n      <td>番号588の回答参照</td>\n    </tr>\n  </tbody>\n</table>\n</div>"
     },
     "metadata": {},
     "execution_count": 9
    }
   ],
   "source": [
    "df3.tail()"
   ]
  },
  {
   "cell_type": "code",
   "execution_count": 10,
   "metadata": {},
   "outputs": [],
   "source": [
    "import datetime\n",
    "\n",
    "def excel_date(date1):\n",
    "    temp = datetime.datetime(1899, 12, 30)    # Note, not 31st Dec but 30th!\n",
    "    delta = date1 - temp\n",
    "    return int(delta.days)\n",
    "\n",
    "def normalize(data):\n",
    "    if isinstance(data, int):\n",
    "        return data\n",
    "    elif isinstance(data, float):\n",
    "        return data\n",
    "    elif isinstance(data, str):\n",
    "        Y, MD = data.replace('\\n', '').split('年')\n",
    "        try:\n",
    "            Y = str(j2w.convert(zenhan.z2h(Y) + '年')) + '年'\n",
    "        except:\n",
    "            Y = str(j2w.convert('令和' + zenhan.z2h(Y) + '年')) + '年'\n",
    "        MD = zenhan.z2h(str(MD))\n",
    "        date = datetime.datetime.strptime(Y+MD, '%Y年%m月%d日')\n",
    "        return excel_date(date)\n",
    "    else:\n",
    "        return data\n",
    "\n",
    "def conv_date2(df, column):\n",
    "    tmp = df[column].apply(normalize)\n",
    "    return tmp"
   ]
  },
  {
   "cell_type": "code",
   "execution_count": 11,
   "metadata": {},
   "outputs": [],
   "source": [
    "df4 = pd.read_excel(FILE_LIST[3], header=3)\n",
    "df4.rename(columns={'所管省庁への\\u3000\\u3000検討要請日': '所管省庁への検討要請日', '内閣府での\\n回答取りまとめ\\n日':'回答取りまとめ日', '提案事項名\\n（タイトル）':'提案事項名', '提案主体名\\n（会社名・団体名）':'提案主体名'}, inplace=True)\n",
    "df4['所管省庁への検討要請日'] = conv_date2(df4, '所管省庁への検討要請日')\n",
    "df4['所管省庁への検討要請日'] = pd.to_datetime('1900-01-01') + pd.to_timedelta(df4['所管省庁への検討要請日'],'D')\n",
    "df4['回答取りまとめ日'] = conv_date2(df4, '回答取りまとめ日')\n",
    "df4['回答取りまとめ日'] = pd.to_datetime('1900-01-01') + pd.to_timedelta(df4['回答取りまとめ日'],'D')"
   ]
  },
  {
   "cell_type": "code",
   "execution_count": 12,
   "metadata": {},
   "outputs": [
    {
     "output_type": "execute_result",
     "data": {
      "text/plain": [
       "        番号 所管省庁への検討要請日   回答取りまとめ日  \\\n",
       "1086  1092  2021-03-26 2021-04-18   \n",
       "1087  1093  2021-03-26        NaT   \n",
       "1088  1094  2021-03-06        NaT   \n",
       "1089  1095  2021-03-06        NaT   \n",
       "1090  1096  2021-03-26 2021-04-18   \n",
       "\n",
       "                                                提案事項名       提案主体名  \\\n",
       "1086                 一般貨物自動車運送事業経営許可申請の標準処理期間の見直しについて  日本行政書士会連合会   \n",
       "1087                                公共工事における書式のムダについて          個人   \n",
       "1088                             【必見！】乳幼児保育用の勤務証明書統一化          個人   \n",
       "1089                           保育所の申し込みに関する証明書の書式について          個人   \n",
       "1090  法令、施行規則、官公庁通達等指示などで、書面が必要なものを電子記録媒体・電子認証等で代替を許容       都銀懇話会   \n",
       "\n",
       "                                                制度の所管省庁  備考  \\\n",
       "1086                                              国土交通省 NaN   \n",
       "1087  内閣府\\n総務省\\n財務省\\n文部科学省\\n厚生労働省\\n農林水産省\\n経済産業省\\n国土交... NaN   \n",
       "1088                                         内閣府\\n厚生労働省 NaN   \n",
       "1089                                         内閣府\\n厚生労働省 NaN   \n",
       "1090                                          内閣官房\\n内閣府 NaN   \n",
       "\n",
       "      ワーキング・グループにおける\\n処理方針  \n",
       "1086                   NaN  \n",
       "1087                   NaN  \n",
       "1088                   NaN  \n",
       "1089                   NaN  \n",
       "1090                   NaN  "
      ],
      "text/html": "<div>\n<style scoped>\n    .dataframe tbody tr th:only-of-type {\n        vertical-align: middle;\n    }\n\n    .dataframe tbody tr th {\n        vertical-align: top;\n    }\n\n    .dataframe thead th {\n        text-align: right;\n    }\n</style>\n<table border=\"1\" class=\"dataframe\">\n  <thead>\n    <tr style=\"text-align: right;\">\n      <th></th>\n      <th>番号</th>\n      <th>所管省庁への検討要請日</th>\n      <th>回答取りまとめ日</th>\n      <th>提案事項名</th>\n      <th>提案主体名</th>\n      <th>制度の所管省庁</th>\n      <th>備考</th>\n      <th>ワーキング・グループにおける\\n処理方針</th>\n    </tr>\n  </thead>\n  <tbody>\n    <tr>\n      <th>1086</th>\n      <td>1092</td>\n      <td>2021-03-26</td>\n      <td>2021-04-18</td>\n      <td>一般貨物自動車運送事業経営許可申請の標準処理期間の見直しについて</td>\n      <td>日本行政書士会連合会</td>\n      <td>国土交通省</td>\n      <td>NaN</td>\n      <td>NaN</td>\n    </tr>\n    <tr>\n      <th>1087</th>\n      <td>1093</td>\n      <td>2021-03-26</td>\n      <td>NaT</td>\n      <td>公共工事における書式のムダについて</td>\n      <td>個人</td>\n      <td>内閣府\\n総務省\\n財務省\\n文部科学省\\n厚生労働省\\n農林水産省\\n経済産業省\\n国土交...</td>\n      <td>NaN</td>\n      <td>NaN</td>\n    </tr>\n    <tr>\n      <th>1088</th>\n      <td>1094</td>\n      <td>2021-03-06</td>\n      <td>NaT</td>\n      <td>【必見！】乳幼児保育用の勤務証明書統一化</td>\n      <td>個人</td>\n      <td>内閣府\\n厚生労働省</td>\n      <td>NaN</td>\n      <td>NaN</td>\n    </tr>\n    <tr>\n      <th>1089</th>\n      <td>1095</td>\n      <td>2021-03-06</td>\n      <td>NaT</td>\n      <td>保育所の申し込みに関する証明書の書式について</td>\n      <td>個人</td>\n      <td>内閣府\\n厚生労働省</td>\n      <td>NaN</td>\n      <td>NaN</td>\n    </tr>\n    <tr>\n      <th>1090</th>\n      <td>1096</td>\n      <td>2021-03-26</td>\n      <td>2021-04-18</td>\n      <td>法令、施行規則、官公庁通達等指示などで、書面が必要なものを電子記録媒体・電子認証等で代替を許容</td>\n      <td>都銀懇話会</td>\n      <td>内閣官房\\n内閣府</td>\n      <td>NaN</td>\n      <td>NaN</td>\n    </tr>\n  </tbody>\n</table>\n</div>"
     },
     "metadata": {},
     "execution_count": 12
    }
   ],
   "source": [
    "df4.tail()"
   ]
  },
  {
   "cell_type": "code",
   "execution_count": 13,
   "metadata": {
    "tags": []
   },
   "outputs": [
    {
     "output_type": "execute_result",
     "data": {
      "text/plain": [
       "   番号   回答取りまとめ日          提案事項 提案主体   所管省庁 所管省庁への検討要請日  \\\n",
       "0   1 2020-11-09  税務署における事前予約制   個人    財務省  2020-10-19   \n",
       "1   2 2020-11-09      高速道路周回割引   個人  国土交通省  2020-10-19   \n",
       "2   3 2020-11-09      所得制限について   個人  厚生労働省  2020-10-19   \n",
       "3   4 2020-11-09     日銀本店の機構改革   個人    財務省  2020-10-19   \n",
       "4   5 2020-11-09  スマホによる転記を求める   個人    内閣府  2020-10-19   \n",
       "\n",
       "                                            提案の具体的内容  \\\n",
       "0  予約がない納税者に対し、受け付けず、改めての来署を指導しています。自分としては、やりすぎだと...   \n",
       "1  高速道路周回割引は各社ごとのエリア限定となっており、鉄道の周遊券のように会社をまたがってでき...   \n",
       "2  中学生で病気を発症し難病になった子を抱えております。行政の申請案内にある福祉関係は所得制限を...   \n",
       "3      日銀本店に勤務する人員（職員、警備員）の削減。オフィススペースの有効活用が必要と思われます   \n",
       "4                         手書きで転記可能な書類のスマホ撮影を可能にして欲しい   \n",
       "\n",
       "                                                提案理由  \\\n",
       "0  その場で処理できる内容であっても、事前予約規制を徹底するために出直しをさせるのは、納税者にと...   \n",
       "1               エリア別に分割したのは政府と旧道路公団です。\\n顧客目線になっていない。   \n",
       "2  ・病気になり診断を受けたら、病院でも福祉の案内、申請ができるようにする。\\n・病気で福祉の申...   \n",
       "3  先日、破損した紙幣の交換のため、生まれて初めて日銀本店（日本橋本石町）の中に入りました。先ず...   \n",
       "4  仕事柄、閲覧可能な公文書のなかから、必要な情報を取得して持ち帰ることが多いです（建築計画概要...   \n",
       "\n",
       "                                     所管省庁の検討結果_制度の現状      所管省庁の検討結果_該当法令等  \\\n",
       "0  　国税に関するご相談について、具体的に書類や事実関係を確認する必要があるものについては、納税...                    －   \n",
       "1  　高速道路の周遊割引は、高速道路会社において、地域活性化や観光振興を目的として、期間や区間を...                    －   \n",
       "2  ・指定難病の患者への医療費助成については、患者の負担軽減を図ると共に、治療研究を推進するため...  難病の患者に対する医療等に関する法律等   \n",
       "3  日本銀行の独立性を尊重する観点から、組織規程等については、財務省は届出を受けるのみとなってお...            日本銀行法第59条   \n",
       "4  ○国立公文書館利用等細則（特定歴史公文書等の撮影）\\n　　国立公文書館の利用者が、特定歴史公...               左記のとおり   \n",
       "\n",
       "  所管省庁の検討結果_対応の分類                                    所管省庁の検討結果_対応の概要  \\\n",
       "0             その他                                   制度の現状欄に記載のとおりです。   \n",
       "1            事実誤認  高速道路会社の実施する周遊割引の対象エリアについては高速道路会社が設定しているものです。いた...   \n",
       "2            対応不可  ・難病の医療費助成については、難病の患者に対する医療等に関する法律（平成26年法律第50号）...   \n",
       "3             その他                                   制度の現状欄に記載のとおりです。   \n",
       "4             その他  一般的に公文書の閲覧に係る制約のあり方については、制度を所管している主体や、実際に文書を保有...   \n",
       "\n",
       "   ワーキング・グループにおける処理方針    区分       通番  \n",
       "0                 NaN  行政改革  行-00001  \n",
       "1                 NaN  行政改革  行-00002  \n",
       "2                 NaN  行政改革  行-00003  \n",
       "3                 NaN  行政改革  行-00004  \n",
       "4                 NaN  行政改革  行-00005  "
      ],
      "text/html": "<div>\n<style scoped>\n    .dataframe tbody tr th:only-of-type {\n        vertical-align: middle;\n    }\n\n    .dataframe tbody tr th {\n        vertical-align: top;\n    }\n\n    .dataframe thead th {\n        text-align: right;\n    }\n</style>\n<table border=\"1\" class=\"dataframe\">\n  <thead>\n    <tr style=\"text-align: right;\">\n      <th></th>\n      <th>番号</th>\n      <th>回答取りまとめ日</th>\n      <th>提案事項</th>\n      <th>提案主体</th>\n      <th>所管省庁</th>\n      <th>所管省庁への検討要請日</th>\n      <th>提案の具体的内容</th>\n      <th>提案理由</th>\n      <th>所管省庁の検討結果_制度の現状</th>\n      <th>所管省庁の検討結果_該当法令等</th>\n      <th>所管省庁の検討結果_対応の分類</th>\n      <th>所管省庁の検討結果_対応の概要</th>\n      <th>ワーキング・グループにおける処理方針</th>\n      <th>区分</th>\n      <th>通番</th>\n    </tr>\n  </thead>\n  <tbody>\n    <tr>\n      <th>0</th>\n      <td>1</td>\n      <td>2020-11-09</td>\n      <td>税務署における事前予約制</td>\n      <td>個人</td>\n      <td>財務省</td>\n      <td>2020-10-19</td>\n      <td>予約がない納税者に対し、受け付けず、改めての来署を指導しています。自分としては、やりすぎだと...</td>\n      <td>その場で処理できる内容であっても、事前予約規制を徹底するために出直しをさせるのは、納税者にと...</td>\n      <td>国税に関するご相談について、具体的に書類や事実関係を確認する必要があるものについては、納税...</td>\n      <td>－</td>\n      <td>その他</td>\n      <td>制度の現状欄に記載のとおりです。</td>\n      <td>NaN</td>\n      <td>行政改革</td>\n      <td>行-00001</td>\n    </tr>\n    <tr>\n      <th>1</th>\n      <td>2</td>\n      <td>2020-11-09</td>\n      <td>高速道路周回割引</td>\n      <td>個人</td>\n      <td>国土交通省</td>\n      <td>2020-10-19</td>\n      <td>高速道路周回割引は各社ごとのエリア限定となっており、鉄道の周遊券のように会社をまたがってでき...</td>\n      <td>エリア別に分割したのは政府と旧道路公団です。\\n顧客目線になっていない。</td>\n      <td>高速道路の周遊割引は、高速道路会社において、地域活性化や観光振興を目的として、期間や区間を...</td>\n      <td>－</td>\n      <td>事実誤認</td>\n      <td>高速道路会社の実施する周遊割引の対象エリアについては高速道路会社が設定しているものです。いた...</td>\n      <td>NaN</td>\n      <td>行政改革</td>\n      <td>行-00002</td>\n    </tr>\n    <tr>\n      <th>2</th>\n      <td>3</td>\n      <td>2020-11-09</td>\n      <td>所得制限について</td>\n      <td>個人</td>\n      <td>厚生労働省</td>\n      <td>2020-10-19</td>\n      <td>中学生で病気を発症し難病になった子を抱えております。行政の申請案内にある福祉関係は所得制限を...</td>\n      <td>・病気になり診断を受けたら、病院でも福祉の案内、申請ができるようにする。\\n・病気で福祉の申...</td>\n      <td>・指定難病の患者への医療費助成については、患者の負担軽減を図ると共に、治療研究を推進するため...</td>\n      <td>難病の患者に対する医療等に関する法律等</td>\n      <td>対応不可</td>\n      <td>・難病の医療費助成については、難病の患者に対する医療等に関する法律（平成26年法律第50号）...</td>\n      <td>NaN</td>\n      <td>行政改革</td>\n      <td>行-00003</td>\n    </tr>\n    <tr>\n      <th>3</th>\n      <td>4</td>\n      <td>2020-11-09</td>\n      <td>日銀本店の機構改革</td>\n      <td>個人</td>\n      <td>財務省</td>\n      <td>2020-10-19</td>\n      <td>日銀本店に勤務する人員（職員、警備員）の削減。オフィススペースの有効活用が必要と思われます</td>\n      <td>先日、破損した紙幣の交換のため、生まれて初めて日銀本店（日本橋本石町）の中に入りました。先ず...</td>\n      <td>日本銀行の独立性を尊重する観点から、組織規程等については、財務省は届出を受けるのみとなってお...</td>\n      <td>日本銀行法第59条</td>\n      <td>その他</td>\n      <td>制度の現状欄に記載のとおりです。</td>\n      <td>NaN</td>\n      <td>行政改革</td>\n      <td>行-00004</td>\n    </tr>\n    <tr>\n      <th>4</th>\n      <td>5</td>\n      <td>2020-11-09</td>\n      <td>スマホによる転記を求める</td>\n      <td>個人</td>\n      <td>内閣府</td>\n      <td>2020-10-19</td>\n      <td>手書きで転記可能な書類のスマホ撮影を可能にして欲しい</td>\n      <td>仕事柄、閲覧可能な公文書のなかから、必要な情報を取得して持ち帰ることが多いです（建築計画概要...</td>\n      <td>○国立公文書館利用等細則（特定歴史公文書等の撮影）\\n　　国立公文書館の利用者が、特定歴史公...</td>\n      <td>左記のとおり</td>\n      <td>その他</td>\n      <td>一般的に公文書の閲覧に係る制約のあり方については、制度を所管している主体や、実際に文書を保有...</td>\n      <td>NaN</td>\n      <td>行政改革</td>\n      <td>行-00005</td>\n    </tr>\n  </tbody>\n</table>\n</div>"
     },
     "metadata": {},
     "execution_count": 13
    }
   ],
   "source": [
    "df_gyosei = pd.merge(df3, df, how='left', on='番号').drop(columns=[\n",
    "    '提案事項','提案主体','所管省庁_y','備考_x'])\n",
    "def a(x):\n",
    "    try:\n",
    "        tmp = x['所管省庁への検討要請日_y']\n",
    "        if tmp is pd.NaT:\n",
    "            tmp = x['所管省庁への検討要請日_x']\n",
    "    except:\n",
    "        print(x)\n",
    "    return tmp\n",
    "df_gyosei['所管省庁への検討要請日_y'] = df_gyosei.apply(a, raw=False, axis=1)\n",
    "def b(x):\n",
    "    try:\n",
    "        tmp = x['回答取りまとめ日_x']\n",
    "        if tmp == pd.NaT:\n",
    "            tmp = x['回答取りまとめ日_y']\n",
    "    except:\n",
    "        print(x)\n",
    "    return tmp\n",
    "df_gyosei['回答取りまとめ日_x'] = df_gyosei.apply(b, raw=False, axis=1)\n",
    "df_gyosei = df_gyosei.drop(columns=['所管省庁への検討要請日_x', '回答取りまとめ日_y'])\n",
    "\n",
    "df_gyosei.rename(columns={\n",
    "    '所管省庁への検討要請日_y': '所管省庁への検討要請日',\n",
    "    '回答取りまとめ日_x': '回答取りまとめ日',\n",
    "    '提案事項名': '提案事項',\n",
    "    '提案主体名': '提案主体',\n",
    "    '所管省庁_x': '所管省庁',\n",
    "    '備考_y': 'ワーキング・グループにおける処理方針'\n",
    "}\n",
    ", inplace=True)\n",
    "\n",
    "df_gyosei['区分']='行政改革'\n",
    "df_gyosei['通番']=df_gyosei['番号'].map('行-{:05d}'.format)\n",
    "df_gyosei.head()"
   ]
  },
  {
   "cell_type": "code",
   "execution_count": 14,
   "metadata": {},
   "outputs": [
    {
     "output_type": "execute_result",
     "data": {
      "text/plain": [
       "   番号   回答取りまとめ日                                        提案事項 提案主体      所管省庁  \\\n",
       "0   1 2020-11-26  技術士（農業部門）及び技術士補（農業部門）登録者の（農業）普及指導員への任用について   個人     農林水産省   \n",
       "1   2 2020-11-11                          法務局の登記簿謄本と公図のデジタル化   個人       法務省   \n",
       "2   3 2020-11-26                                      保険について   個人     厚生労働省   \n",
       "3   4        NaT                                  一般ゴミ規制について   個人       環境省   \n",
       "4   5 2020-11-11                       成人向け作品におけるモザイクや消しについて   個人  警察庁\\n法務省   \n",
       "\n",
       "   備考 所管省庁への検討要請日                                           提案の具体的内容  \\\n",
       "0 NaN  2020-10-19  平成16年度まで普及職員の資格試験は「改良普及員」と「専門技術員」の２つが実施されていました...   \n",
       "1 NaN  2020-10-19  現在、不動産の登記簿謄本や商業謄本（会社謄本）は紙データ（ＰＤＦデータ）で法務局から受け取ら...   \n",
       "2 NaN  2020-10-19  コロナ禍の中ご苦労様です。私茅ヶ崎市在住の者ですが、社会保険加入と国民健康保険の切り替えが自...   \n",
       "3 NaN  2020-10-21                                                NaN   \n",
       "4 NaN  2020-10-19  成人向けの性的な描写におけるモザイク等の修正が必要とされている現状の無意味な規制を撤廃するべ...   \n",
       "\n",
       "                                                提案理由  \\\n",
       "0  普及指導員は高度な普及事業を担当する即戦力の技術者として任用されることから「普及指導員資格試...   \n",
       "1  現在、不動産の登記簿謄本や商業謄本（会社謄本）は紙データ（ＰＤＦデータ）で法務局から受け取ら...   \n",
       "2  今後のデジタル化に伴いマイナンバーカードの利点をアナログからデジタル化活用し無駄な動きが無い...   \n",
       "3                                                NaN   \n",
       "4  現在成人向けコンテンツにおける性器に対して掛けられている修正は世界的に見てもその必要性が疑問...   \n",
       "\n",
       "                                     所管省庁の検討結果_制度の現状  \\\n",
       "0  普及指導員は、都道府県職員の役職であり、都道府県知事が任用するものです。このため、原則普及指...   \n",
       "1  不動産登記手続及び商業・法人登記手続においては，登記事項証明書，地図，建物所在図，地図に準ず...   \n",
       "2  　社会保険加入について、国保保険者に自動的に伝える仕組みについては、現時点では、社会保険の保...   \n",
       "3                                                NaN   \n",
       "4  刑法第175条は、「成人向けの性的な描写におけるモザイク等の修正が必要」という規制を規定して...   \n",
       "\n",
       "                                     所管省庁の検討結果_該当法令等 所管省庁の検討結果_対応の分類  \\\n",
       "0  農業改良助長法施行令（昭和27年政令第148号）第３条第２号、農業改良助長法施行令に規定する...      現行制度下で対応可能   \n",
       "1  不動産登記法第１１９条及び１２０条，商業登記法第１０条，電気通信回線による登記情報の提供に関...            対応不可   \n",
       "2                                                NaN            対応不可   \n",
       "3                                                NaN             NaN   \n",
       "4                                                 なし            事実誤認   \n",
       "\n",
       "                                     所管省庁の検討結果_対応の概要  ワーキング・グループにおける処理方針  \\\n",
       "0  「農業改良助長法施行令（昭和27年政令第148号）第３条第２号」及び「農業改良助長法施行令に...                 NaN   \n",
       "1  登記制度は，登記記録に記録された内容を公示することにより，国民の権利の保全や商号，会社等に係...                 NaN   \n",
       "2                                   制度の現状欄に記載のとおりです。                 NaN   \n",
       "3                                                NaN                 NaN   \n",
       "4  制度の現状欄に記載のとおり「規制」についての事実誤認があります。\\nなお、捜査機関においては...                 NaN   \n",
       "\n",
       "     区分       通番  \n",
       "0  規制改革  規-00001  \n",
       "1  規制改革  規-00002  \n",
       "2  規制改革  規-00003  \n",
       "3  規制改革  規-00004  \n",
       "4  規制改革  規-00005  "
      ],
      "text/html": "<div>\n<style scoped>\n    .dataframe tbody tr th:only-of-type {\n        vertical-align: middle;\n    }\n\n    .dataframe tbody tr th {\n        vertical-align: top;\n    }\n\n    .dataframe thead th {\n        text-align: right;\n    }\n</style>\n<table border=\"1\" class=\"dataframe\">\n  <thead>\n    <tr style=\"text-align: right;\">\n      <th></th>\n      <th>番号</th>\n      <th>回答取りまとめ日</th>\n      <th>提案事項</th>\n      <th>提案主体</th>\n      <th>所管省庁</th>\n      <th>備考</th>\n      <th>所管省庁への検討要請日</th>\n      <th>提案の具体的内容</th>\n      <th>提案理由</th>\n      <th>所管省庁の検討結果_制度の現状</th>\n      <th>所管省庁の検討結果_該当法令等</th>\n      <th>所管省庁の検討結果_対応の分類</th>\n      <th>所管省庁の検討結果_対応の概要</th>\n      <th>ワーキング・グループにおける処理方針</th>\n      <th>区分</th>\n      <th>通番</th>\n    </tr>\n  </thead>\n  <tbody>\n    <tr>\n      <th>0</th>\n      <td>1</td>\n      <td>2020-11-26</td>\n      <td>技術士（農業部門）及び技術士補（農業部門）登録者の（農業）普及指導員への任用について</td>\n      <td>個人</td>\n      <td>農林水産省</td>\n      <td>NaN</td>\n      <td>2020-10-19</td>\n      <td>平成16年度まで普及職員の資格試験は「改良普及員」と「専門技術員」の２つが実施されていました...</td>\n      <td>普及指導員は高度な普及事業を担当する即戦力の技術者として任用されることから「普及指導員資格試...</td>\n      <td>普及指導員は、都道府県職員の役職であり、都道府県知事が任用するものです。このため、原則普及指...</td>\n      <td>農業改良助長法施行令（昭和27年政令第148号）第３条第２号、農業改良助長法施行令に規定する...</td>\n      <td>現行制度下で対応可能</td>\n      <td>「農業改良助長法施行令（昭和27年政令第148号）第３条第２号」及び「農業改良助長法施行令に...</td>\n      <td>NaN</td>\n      <td>規制改革</td>\n      <td>規-00001</td>\n    </tr>\n    <tr>\n      <th>1</th>\n      <td>2</td>\n      <td>2020-11-11</td>\n      <td>法務局の登記簿謄本と公図のデジタル化</td>\n      <td>個人</td>\n      <td>法務省</td>\n      <td>NaN</td>\n      <td>2020-10-19</td>\n      <td>現在、不動産の登記簿謄本や商業謄本（会社謄本）は紙データ（ＰＤＦデータ）で法務局から受け取ら...</td>\n      <td>現在、不動産の登記簿謄本や商業謄本（会社謄本）は紙データ（ＰＤＦデータ）で法務局から受け取ら...</td>\n      <td>不動産登記手続及び商業・法人登記手続においては，登記事項証明書，地図，建物所在図，地図に準ず...</td>\n      <td>不動産登記法第１１９条及び１２０条，商業登記法第１０条，電気通信回線による登記情報の提供に関...</td>\n      <td>対応不可</td>\n      <td>登記制度は，登記記録に記録された内容を公示することにより，国民の権利の保全や商号，会社等に係...</td>\n      <td>NaN</td>\n      <td>規制改革</td>\n      <td>規-00002</td>\n    </tr>\n    <tr>\n      <th>2</th>\n      <td>3</td>\n      <td>2020-11-26</td>\n      <td>保険について</td>\n      <td>個人</td>\n      <td>厚生労働省</td>\n      <td>NaN</td>\n      <td>2020-10-19</td>\n      <td>コロナ禍の中ご苦労様です。私茅ヶ崎市在住の者ですが、社会保険加入と国民健康保険の切り替えが自...</td>\n      <td>今後のデジタル化に伴いマイナンバーカードの利点をアナログからデジタル化活用し無駄な動きが無い...</td>\n      <td>社会保険加入について、国保保険者に自動的に伝える仕組みについては、現時点では、社会保険の保...</td>\n      <td>NaN</td>\n      <td>対応不可</td>\n      <td>制度の現状欄に記載のとおりです。</td>\n      <td>NaN</td>\n      <td>規制改革</td>\n      <td>規-00003</td>\n    </tr>\n    <tr>\n      <th>3</th>\n      <td>4</td>\n      <td>NaT</td>\n      <td>一般ゴミ規制について</td>\n      <td>個人</td>\n      <td>環境省</td>\n      <td>NaN</td>\n      <td>2020-10-21</td>\n      <td>NaN</td>\n      <td>NaN</td>\n      <td>NaN</td>\n      <td>NaN</td>\n      <td>NaN</td>\n      <td>NaN</td>\n      <td>NaN</td>\n      <td>規制改革</td>\n      <td>規-00004</td>\n    </tr>\n    <tr>\n      <th>4</th>\n      <td>5</td>\n      <td>2020-11-11</td>\n      <td>成人向け作品におけるモザイクや消しについて</td>\n      <td>個人</td>\n      <td>警察庁\\n法務省</td>\n      <td>NaN</td>\n      <td>2020-10-19</td>\n      <td>成人向けの性的な描写におけるモザイク等の修正が必要とされている現状の無意味な規制を撤廃するべ...</td>\n      <td>現在成人向けコンテンツにおける性器に対して掛けられている修正は世界的に見てもその必要性が疑問...</td>\n      <td>刑法第175条は、「成人向けの性的な描写におけるモザイク等の修正が必要」という規制を規定して...</td>\n      <td>なし</td>\n      <td>事実誤認</td>\n      <td>制度の現状欄に記載のとおり「規制」についての事実誤認があります。\\nなお、捜査機関においては...</td>\n      <td>NaN</td>\n      <td>規制改革</td>\n      <td>規-00005</td>\n    </tr>\n  </tbody>\n</table>\n</div>"
     },
     "metadata": {},
     "execution_count": 14
    }
   ],
   "source": [
    "df_kisei = pd.merge(df4, df2, how='left', on='番号').drop(columns=[\n",
    "    '提案事項','提案主体','所管省庁', #'回答参照先'\n",
    "    'ワーキング・グループにおける\\n処理方針'])\n",
    "df_kisei['所管省庁への検討要請日_y'] = df_kisei.apply(a, raw=False, axis=1)\n",
    "df_kisei['回答取りまとめ日_x'] = df_kisei.apply(b, raw=False, axis=1)\n",
    "df_kisei = df_kisei.drop(columns=['所管省庁への検討要請日_x', '回答取りまとめ日_y'])\n",
    "df_kisei.rename(columns={\n",
    "    '所管省庁への検討要請日_y': '所管省庁への検討要請日',\n",
    "    '回答取りまとめ日_x': '回答取りまとめ日',\n",
    "    '提案事項名': '提案事項',\n",
    "    '提案主体名': '提案主体',\n",
    "    '所管省庁_x': '所管省庁',\n",
    "    '制度の所管省庁': '所管省庁',\n",
    "    '備考_y': 'ワーキング・グループにおける処理方針'\n",
    "}\n",
    ", inplace=True)\n",
    "\n",
    "df_kisei['区分']='規制改革'\n",
    "df_kisei['通番']=df_kisei['番号'].map('規-{:05d}'.format)\n",
    "df_kisei.head()"
   ]
  },
  {
   "cell_type": "code",
   "execution_count": 15,
   "metadata": {},
   "outputs": [],
   "source": [
    "df_all = pd.concat([df_gyosei,df_kisei], ignore_index=True)"
   ]
  },
  {
   "source": [
    "## タグ付処理"
   ],
   "cell_type": "markdown",
   "metadata": {}
  },
  {
   "cell_type": "code",
   "execution_count": 16,
   "metadata": {},
   "outputs": [],
   "source": [
    "import MeCab\n",
    "tagger = MeCab.Tagger(\"-Ochasen -u ./dict/local_dict.dic\")"
   ]
  },
  {
   "cell_type": "code",
   "execution_count": 17,
   "metadata": {},
   "outputs": [],
   "source": [
    "def get_word_bag(text):\n",
    "    try:\n",
    "        tag = tagger.parseToNode(text)\n",
    "        words = set()\n",
    "        while tag:\n",
    "            feature = tag.feature.split(\",\")\n",
    "            if feature[0] == \"名詞\" and len(tag.surface) >= 2:\n",
    "                words.add(tag.surface)\n",
    "            tag = tag.next\n",
    "        return list(words)\n",
    "    except:\n",
    "        return []"
   ]
  },
  {
   "cell_type": "code",
   "execution_count": 18,
   "metadata": {},
   "outputs": [
    {
     "output_type": "execute_result",
     "data": {
      "text/plain": [
       "Index(['番号', '回答取りまとめ日', '提案事項', '提案主体', '所管省庁', '所管省庁への検討要請日', '提案の具体的内容',\n",
       "       '提案理由', '所管省庁の検討結果_制度の現状', '所管省庁の検討結果_該当法令等', '所管省庁の検討結果_対応の分類',\n",
       "       '所管省庁の検討結果_対応の概要', 'ワーキング・グループにおける処理方針', '区分', '通番', '備考'],\n",
       "      dtype='object')"
      ]
     },
     "metadata": {},
     "execution_count": 18
    }
   ],
   "source": [
    "df_all.columns"
   ]
  },
  {
   "cell_type": "code",
   "execution_count": 19,
   "metadata": {},
   "outputs": [],
   "source": [
    "all_text = df_all['提案事項'] + \\\n",
    "           df_all['提案の具体的内容'].replace(np.nan, '', regex=True) + \\\n",
    "           df_all['提案理由'].replace(np.nan, '', regex=True) + \\\n",
    "           df_all['所管省庁の検討結果_制度の現状'].replace(np.nan, '', regex=True) + \\\n",
    "           df_all['所管省庁の検討結果_対応の概要'].replace(np.nan, '', regex=True) + \\\n",
    "           df_all['所管省庁の検討結果_該当法令等'].replace(np.nan, '', regex=True)\n",
    "tmp = all_text.apply(get_word_bag)"
   ]
  },
  {
   "cell_type": "code",
   "execution_count": 20,
   "metadata": {},
   "outputs": [],
   "source": [
    "import json\n",
    "\n",
    "with open('./dict/tag.json', encoding='utf-8') as json_file:\n",
    "    rules_json = json.load(json_file)\n",
    "\n",
    "def get_summary_tag(words):\n",
    "    tags = []\n",
    "    rules = rules_json['rules']\n",
    "\n",
    "    for rule in rules:\n",
    "        if any(item in words for item in rule['def']):\n",
    "            tags.append(rule['tag'])\n",
    "    return '\\n'.join(map(str,tags))"
   ]
  },
  {
   "cell_type": "code",
   "execution_count": 21,
   "metadata": {},
   "outputs": [],
   "source": [
    "df_all['タグ'] = tmp.apply(get_summary_tag)"
   ]
  },
  {
   "source": [
    "## データ保存"
   ],
   "cell_type": "markdown",
   "metadata": {}
  },
  {
   "cell_type": "code",
   "execution_count": 22,
   "metadata": {},
   "outputs": [],
   "source": [
    "# 概要\n",
    "df_all['UID'] = df_all.index.map('UID{:05d}'.format)\n",
    "df_all.drop_duplicates(subset=['通番'], inplace=True)\n",
    "df_all[['UID','番号', '回答取りまとめ日', '提案事項', '提案主体', '所管省庁', '備考', '所管省庁への検討要請日','所管省庁の検討結果_対応の分類',\n",
    "        'ワーキング・グループにおける処理方針', '区分', '通番','タグ']].to_json('./s3static/src/assets/data{}.json'.format(JSON_SUFFIX), orient='records')\n",
    "# 詳細\n",
    "df_detailed = df_all[['UID','提案の具体的内容', '提案理由', '所管省庁の検討結果_制度の現状', '所管省庁の検討結果_該当法令等',\n",
    "       '所管省庁の検討結果_対応の分類', '所管省庁の検討結果_対応の概要']]\n",
    "df_detailed = df_detailed.set_index('UID')\n",
    "df_detailed.dropna(subset=['提案の具体的内容'], inplace=True) \n",
    "#df_detailed.drop_duplicates(inplace=True)     \n",
    "df_detailed.to_json('./s3static/public/data/data{}.json'.format(JSON_SUFFIX), orient='index')"
   ]
  },
  {
   "cell_type": "code",
   "execution_count": 23,
   "metadata": {},
   "outputs": [
    {
     "output_type": "execute_result",
     "data": {
      "text/plain": [
       "        番号   回答取りまとめ日                                             提案事項  \\\n",
       "0        1 2020-11-09                                     税務署における事前予約制   \n",
       "1        2 2020-11-09                                         高速道路周回割引   \n",
       "2        3 2020-11-09                                         所得制限について   \n",
       "3        4 2020-11-09                                        日銀本店の機構改革   \n",
       "4        5 2020-11-09                                     スマホによる転記を求める   \n",
       "...    ...        ...                                              ...   \n",
       "1807  1092 2021-04-18                 一般貨物自動車運送事業経営許可申請の標準処理期間の見直しについて   \n",
       "1808  1093        NaT                                公共工事における書式のムダについて   \n",
       "1809  1094        NaT                             【必見！】乳幼児保育用の勤務証明書統一化   \n",
       "1810  1095        NaT                           保育所の申し込みに関する証明書の書式について   \n",
       "1811  1096 2021-04-18  法令、施行規則、官公庁通達等指示などで、書面が必要なものを電子記録媒体・電子認証等で代替を許容   \n",
       "\n",
       "            提案主体                                               所管省庁  \\\n",
       "0             個人                                                財務省   \n",
       "1             個人                                              国土交通省   \n",
       "2             個人                                              厚生労働省   \n",
       "3             個人                                                財務省   \n",
       "4             個人                                                内閣府   \n",
       "...          ...                                                ...   \n",
       "1807  日本行政書士会連合会                                              国土交通省   \n",
       "1808          個人  内閣府\\n総務省\\n財務省\\n文部科学省\\n厚生労働省\\n農林水産省\\n経済産業省\\n国土交...   \n",
       "1809          個人                                         内閣府\\n厚生労働省   \n",
       "1810          個人                                         内閣府\\n厚生労働省   \n",
       "1811       都銀懇話会                                          内閣官房\\n内閣府   \n",
       "\n",
       "     所管省庁への検討要請日                                           提案の具体的内容  \\\n",
       "0     2020-10-19  予約がない納税者に対し、受け付けず、改めての来署を指導しています。自分としては、やりすぎだと...   \n",
       "1     2020-10-19  高速道路周回割引は各社ごとのエリア限定となっており、鉄道の周遊券のように会社をまたがってでき...   \n",
       "2     2020-10-19  中学生で病気を発症し難病になった子を抱えております。行政の申請案内にある福祉関係は所得制限を...   \n",
       "3     2020-10-19      日銀本店に勤務する人員（職員、警備員）の削減。オフィススペースの有効活用が必要と思われます   \n",
       "4     2020-10-19                         手書きで転記可能な書類のスマホ撮影を可能にして欲しい   \n",
       "...          ...                                                ...   \n",
       "1807  2021-03-24  貨物自動車運送事業法の一部を改正する法律（平成３０年１２月１４日公布法律第９６号）に基づく「...   \n",
       "1808  2021-03-26                                                NaN   \n",
       "1809  2021-03-06                                                NaN   \n",
       "1810  2021-03-06                                                NaN   \n",
       "1811  2021-03-24    【具体的要望内容】\\n 印鑑不要、実物（紙）不要→電磁的記録や電子認証での代用を進めること。   \n",
       "\n",
       "                                                   提案理由  \\\n",
       "0     その場で処理できる内容であっても、事前予約規制を徹底するために出直しをさせるのは、納税者にと...   \n",
       "1                  エリア別に分割したのは政府と旧道路公団です。\\n顧客目線になっていない。   \n",
       "2     ・病気になり診断を受けたら、病院でも福祉の案内、申請ができるようにする。\\n・病気で福祉の申...   \n",
       "3     先日、破損した紙幣の交換のため、生まれて初めて日銀本店（日本橋本石町）の中に入りました。先ず...   \n",
       "4     仕事柄、閲覧可能な公文書のなかから、必要な情報を取得して持ち帰ることが多いです（建築計画概要...   \n",
       "...                                                 ...   \n",
       "1807  改正概要では一般貨物自動車運送事業の許可及び認可において、運輸局長及び運輸支局長の事案で、運...   \n",
       "1808                                                NaN   \n",
       "1809                                                NaN   \n",
       "1810                                                NaN   \n",
       "1811  【制度の現状(現行規制の概要等)】\\n 現行、様々な法令、政省令、施行規則において手続には...   \n",
       "\n",
       "                                        所管省庁の検討結果_制度の現状  \\\n",
       "0     　国税に関するご相談について、具体的に書類や事実関係を確認する必要があるものについては、納税...   \n",
       "1     　高速道路の周遊割引は、高速道路会社において、地域活性化や観光振興を目的として、期間や区間を...   \n",
       "2     ・指定難病の患者への医療費助成については、患者の負担軽減を図ると共に、治療研究を推進するため...   \n",
       "3     日本銀行の独立性を尊重する観点から、組織規程等については、財務省は届出を受けるのみとなってお...   \n",
       "4     ○国立公文書館利用等細則（特定歴史公文書等の撮影）\\n　　国立公文書館の利用者が、特定歴史公...   \n",
       "...                                                 ...   \n",
       "1807  トラック運送業の健全な発達を図るため平成30年に貨物自動車運送事業法が改正され、特に規制の適...   \n",
       "1808                                                NaN   \n",
       "1809                                                NaN   \n",
       "1810                                                NaN   \n",
       "1811  デジタル手続法（情報通信技術を活用した行政の推進等に関する法律（平成14年法律第151号））...   \n",
       "\n",
       "                                        所管省庁の検討結果_該当法令等 所管省庁の検討結果_対応の分類  \\\n",
       "0                                                     －             その他   \n",
       "1                                                     －            事実誤認   \n",
       "2                                   難病の患者に対する医療等に関する法律等            対応不可   \n",
       "3                                             日本銀行法第59条             その他   \n",
       "4                                                左記のとおり             その他   \n",
       "...                                                 ...             ...   \n",
       "1807  ・貨物自動車運送事業法（平成元年法律第83号）　\\n・貨物自動車運送事業法施行規則（平成２年...            対応不可   \n",
       "1808                                                NaN             NaN   \n",
       "1809                                                NaN             NaN   \n",
       "1810                                                NaN             NaN   \n",
       "1811          情報通信技術を活用した行政の推進等に関する法律（平成１４年法律第１５１号）第１５条              対応   \n",
       "\n",
       "                                        所管省庁の検討結果_対応の概要  ワーキング・グループにおける処理方針  \\\n",
       "0                                      制度の現状欄に記載のとおりです。                 NaN   \n",
       "1     高速道路会社の実施する周遊割引の対象エリアについては高速道路会社が設定しているものです。いた...                 NaN   \n",
       "2     ・難病の医療費助成については、難病の患者に対する医療等に関する法律（平成26年法律第50号）...                 NaN   \n",
       "3                                      制度の現状欄に記載のとおりです。                 NaN   \n",
       "4     一般的に公文書の閲覧に係る制約のあり方については、制度を所管している主体や、実際に文書を保有...                 NaN   \n",
       "...                                                 ...                 ...   \n",
       "1807  上記（左記）のとおり、平成３０年の貨物自動車運送事業法の改正により各種許認可基準が明確化され...                 NaN   \n",
       "1808                                                NaN                 NaN   \n",
       "1809                                                NaN                 NaN   \n",
       "1810                                                NaN                 NaN   \n",
       "1811  企業間/個人取引における書面・押印の義務付けについては、経済界からの要望を踏まえ規制改革推進...                 NaN   \n",
       "\n",
       "        区分       通番  備考                   タグ       UID  \n",
       "0     行政改革  行-00001 NaN                       UID00000  \n",
       "1     行政改革  行-00002 NaN                       UID00001  \n",
       "2     行政改革  行-00003 NaN  マイナンバーカード\\nデジタル\\n医療  UID00002  \n",
       "3     行政改革  行-00004 NaN                       UID00003  \n",
       "4     行政改革  行-00005 NaN                 デジタル  UID00004  \n",
       "...    ...      ...  ..                  ...       ...  \n",
       "1807  規制改革  規-01092 NaN                       UID01807  \n",
       "1808  規制改革  規-01093 NaN                       UID01808  \n",
       "1809  規制改革  規-01094 NaN                   教育  UID01809  \n",
       "1810  規制改革  規-01095 NaN                   教育  UID01810  \n",
       "1811  規制改革  規-01096 NaN       デジタル\\nハンコ\\nコロナ  UID01811  \n",
       "\n",
       "[1812 rows x 18 columns]"
      ],
      "text/html": "<div>\n<style scoped>\n    .dataframe tbody tr th:only-of-type {\n        vertical-align: middle;\n    }\n\n    .dataframe tbody tr th {\n        vertical-align: top;\n    }\n\n    .dataframe thead th {\n        text-align: right;\n    }\n</style>\n<table border=\"1\" class=\"dataframe\">\n  <thead>\n    <tr style=\"text-align: right;\">\n      <th></th>\n      <th>番号</th>\n      <th>回答取りまとめ日</th>\n      <th>提案事項</th>\n      <th>提案主体</th>\n      <th>所管省庁</th>\n      <th>所管省庁への検討要請日</th>\n      <th>提案の具体的内容</th>\n      <th>提案理由</th>\n      <th>所管省庁の検討結果_制度の現状</th>\n      <th>所管省庁の検討結果_該当法令等</th>\n      <th>所管省庁の検討結果_対応の分類</th>\n      <th>所管省庁の検討結果_対応の概要</th>\n      <th>ワーキング・グループにおける処理方針</th>\n      <th>区分</th>\n      <th>通番</th>\n      <th>備考</th>\n      <th>タグ</th>\n      <th>UID</th>\n    </tr>\n  </thead>\n  <tbody>\n    <tr>\n      <th>0</th>\n      <td>1</td>\n      <td>2020-11-09</td>\n      <td>税務署における事前予約制</td>\n      <td>個人</td>\n      <td>財務省</td>\n      <td>2020-10-19</td>\n      <td>予約がない納税者に対し、受け付けず、改めての来署を指導しています。自分としては、やりすぎだと...</td>\n      <td>その場で処理できる内容であっても、事前予約規制を徹底するために出直しをさせるのは、納税者にと...</td>\n      <td>国税に関するご相談について、具体的に書類や事実関係を確認する必要があるものについては、納税...</td>\n      <td>－</td>\n      <td>その他</td>\n      <td>制度の現状欄に記載のとおりです。</td>\n      <td>NaN</td>\n      <td>行政改革</td>\n      <td>行-00001</td>\n      <td>NaN</td>\n      <td></td>\n      <td>UID00000</td>\n    </tr>\n    <tr>\n      <th>1</th>\n      <td>2</td>\n      <td>2020-11-09</td>\n      <td>高速道路周回割引</td>\n      <td>個人</td>\n      <td>国土交通省</td>\n      <td>2020-10-19</td>\n      <td>高速道路周回割引は各社ごとのエリア限定となっており、鉄道の周遊券のように会社をまたがってでき...</td>\n      <td>エリア別に分割したのは政府と旧道路公団です。\\n顧客目線になっていない。</td>\n      <td>高速道路の周遊割引は、高速道路会社において、地域活性化や観光振興を目的として、期間や区間を...</td>\n      <td>－</td>\n      <td>事実誤認</td>\n      <td>高速道路会社の実施する周遊割引の対象エリアについては高速道路会社が設定しているものです。いた...</td>\n      <td>NaN</td>\n      <td>行政改革</td>\n      <td>行-00002</td>\n      <td>NaN</td>\n      <td></td>\n      <td>UID00001</td>\n    </tr>\n    <tr>\n      <th>2</th>\n      <td>3</td>\n      <td>2020-11-09</td>\n      <td>所得制限について</td>\n      <td>個人</td>\n      <td>厚生労働省</td>\n      <td>2020-10-19</td>\n      <td>中学生で病気を発症し難病になった子を抱えております。行政の申請案内にある福祉関係は所得制限を...</td>\n      <td>・病気になり診断を受けたら、病院でも福祉の案内、申請ができるようにする。\\n・病気で福祉の申...</td>\n      <td>・指定難病の患者への医療費助成については、患者の負担軽減を図ると共に、治療研究を推進するため...</td>\n      <td>難病の患者に対する医療等に関する法律等</td>\n      <td>対応不可</td>\n      <td>・難病の医療費助成については、難病の患者に対する医療等に関する法律（平成26年法律第50号）...</td>\n      <td>NaN</td>\n      <td>行政改革</td>\n      <td>行-00003</td>\n      <td>NaN</td>\n      <td>マイナンバーカード\\nデジタル\\n医療</td>\n      <td>UID00002</td>\n    </tr>\n    <tr>\n      <th>3</th>\n      <td>4</td>\n      <td>2020-11-09</td>\n      <td>日銀本店の機構改革</td>\n      <td>個人</td>\n      <td>財務省</td>\n      <td>2020-10-19</td>\n      <td>日銀本店に勤務する人員（職員、警備員）の削減。オフィススペースの有効活用が必要と思われます</td>\n      <td>先日、破損した紙幣の交換のため、生まれて初めて日銀本店（日本橋本石町）の中に入りました。先ず...</td>\n      <td>日本銀行の独立性を尊重する観点から、組織規程等については、財務省は届出を受けるのみとなってお...</td>\n      <td>日本銀行法第59条</td>\n      <td>その他</td>\n      <td>制度の現状欄に記載のとおりです。</td>\n      <td>NaN</td>\n      <td>行政改革</td>\n      <td>行-00004</td>\n      <td>NaN</td>\n      <td></td>\n      <td>UID00003</td>\n    </tr>\n    <tr>\n      <th>4</th>\n      <td>5</td>\n      <td>2020-11-09</td>\n      <td>スマホによる転記を求める</td>\n      <td>個人</td>\n      <td>内閣府</td>\n      <td>2020-10-19</td>\n      <td>手書きで転記可能な書類のスマホ撮影を可能にして欲しい</td>\n      <td>仕事柄、閲覧可能な公文書のなかから、必要な情報を取得して持ち帰ることが多いです（建築計画概要...</td>\n      <td>○国立公文書館利用等細則（特定歴史公文書等の撮影）\\n　　国立公文書館の利用者が、特定歴史公...</td>\n      <td>左記のとおり</td>\n      <td>その他</td>\n      <td>一般的に公文書の閲覧に係る制約のあり方については、制度を所管している主体や、実際に文書を保有...</td>\n      <td>NaN</td>\n      <td>行政改革</td>\n      <td>行-00005</td>\n      <td>NaN</td>\n      <td>デジタル</td>\n      <td>UID00004</td>\n    </tr>\n    <tr>\n      <th>...</th>\n      <td>...</td>\n      <td>...</td>\n      <td>...</td>\n      <td>...</td>\n      <td>...</td>\n      <td>...</td>\n      <td>...</td>\n      <td>...</td>\n      <td>...</td>\n      <td>...</td>\n      <td>...</td>\n      <td>...</td>\n      <td>...</td>\n      <td>...</td>\n      <td>...</td>\n      <td>...</td>\n      <td>...</td>\n      <td>...</td>\n    </tr>\n    <tr>\n      <th>1807</th>\n      <td>1092</td>\n      <td>2021-04-18</td>\n      <td>一般貨物自動車運送事業経営許可申請の標準処理期間の見直しについて</td>\n      <td>日本行政書士会連合会</td>\n      <td>国土交通省</td>\n      <td>2021-03-24</td>\n      <td>貨物自動車運送事業法の一部を改正する法律（平成３０年１２月１４日公布法律第９６号）に基づく「...</td>\n      <td>改正概要では一般貨物自動車運送事業の許可及び認可において、運輸局長及び運輸支局長の事案で、運...</td>\n      <td>トラック運送業の健全な発達を図るため平成30年に貨物自動車運送事業法が改正され、特に規制の適...</td>\n      <td>・貨物自動車運送事業法（平成元年法律第83号）　\\n・貨物自動車運送事業法施行規則（平成２年...</td>\n      <td>対応不可</td>\n      <td>上記（左記）のとおり、平成３０年の貨物自動車運送事業法の改正により各種許認可基準が明確化され...</td>\n      <td>NaN</td>\n      <td>規制改革</td>\n      <td>規-01092</td>\n      <td>NaN</td>\n      <td></td>\n      <td>UID01807</td>\n    </tr>\n    <tr>\n      <th>1808</th>\n      <td>1093</td>\n      <td>NaT</td>\n      <td>公共工事における書式のムダについて</td>\n      <td>個人</td>\n      <td>内閣府\\n総務省\\n財務省\\n文部科学省\\n厚生労働省\\n農林水産省\\n経済産業省\\n国土交...</td>\n      <td>2021-03-26</td>\n      <td>NaN</td>\n      <td>NaN</td>\n      <td>NaN</td>\n      <td>NaN</td>\n      <td>NaN</td>\n      <td>NaN</td>\n      <td>NaN</td>\n      <td>規制改革</td>\n      <td>規-01093</td>\n      <td>NaN</td>\n      <td></td>\n      <td>UID01808</td>\n    </tr>\n    <tr>\n      <th>1809</th>\n      <td>1094</td>\n      <td>NaT</td>\n      <td>【必見！】乳幼児保育用の勤務証明書統一化</td>\n      <td>個人</td>\n      <td>内閣府\\n厚生労働省</td>\n      <td>2021-03-06</td>\n      <td>NaN</td>\n      <td>NaN</td>\n      <td>NaN</td>\n      <td>NaN</td>\n      <td>NaN</td>\n      <td>NaN</td>\n      <td>NaN</td>\n      <td>規制改革</td>\n      <td>規-01094</td>\n      <td>NaN</td>\n      <td>教育</td>\n      <td>UID01809</td>\n    </tr>\n    <tr>\n      <th>1810</th>\n      <td>1095</td>\n      <td>NaT</td>\n      <td>保育所の申し込みに関する証明書の書式について</td>\n      <td>個人</td>\n      <td>内閣府\\n厚生労働省</td>\n      <td>2021-03-06</td>\n      <td>NaN</td>\n      <td>NaN</td>\n      <td>NaN</td>\n      <td>NaN</td>\n      <td>NaN</td>\n      <td>NaN</td>\n      <td>NaN</td>\n      <td>規制改革</td>\n      <td>規-01095</td>\n      <td>NaN</td>\n      <td>教育</td>\n      <td>UID01810</td>\n    </tr>\n    <tr>\n      <th>1811</th>\n      <td>1096</td>\n      <td>2021-04-18</td>\n      <td>法令、施行規則、官公庁通達等指示などで、書面が必要なものを電子記録媒体・電子認証等で代替を許容</td>\n      <td>都銀懇話会</td>\n      <td>内閣官房\\n内閣府</td>\n      <td>2021-03-24</td>\n      <td>【具体的要望内容】\\n 印鑑不要、実物（紙）不要→電磁的記録や電子認証での代用を進めること。</td>\n      <td>【制度の現状(現行規制の概要等)】\\n 現行、様々な法令、政省令、施行規則において手続には...</td>\n      <td>デジタル手続法（情報通信技術を活用した行政の推進等に関する法律（平成14年法律第151号））...</td>\n      <td>情報通信技術を活用した行政の推進等に関する法律（平成１４年法律第１５１号）第１５条</td>\n      <td>対応</td>\n      <td>企業間/個人取引における書面・押印の義務付けについては、経済界からの要望を踏まえ規制改革推進...</td>\n      <td>NaN</td>\n      <td>規制改革</td>\n      <td>規-01096</td>\n      <td>NaN</td>\n      <td>デジタル\\nハンコ\\nコロナ</td>\n      <td>UID01811</td>\n    </tr>\n  </tbody>\n</table>\n<p>1812 rows × 18 columns</p>\n</div>"
     },
     "metadata": {},
     "execution_count": 23
    }
   ],
   "source": [
    "df_all"
   ]
  },
  {
   "cell_type": "code",
   "execution_count": null,
   "metadata": {},
   "outputs": [],
   "source": []
  }
 ],
 "metadata": {
  "kernelspec": {
   "name": "python376jvsc74a57bd008b5317eac277bb4261804cf2da2c4bc4de8e987b19765516eeccf480de86e45",
   "display_name": "Python 3.7.6 64-bit"
  },
  "language_info": {
   "codemirror_mode": {
    "name": "ipython",
    "version": 3
   },
   "file_extension": ".py",
   "mimetype": "text/x-python",
   "name": "python",
   "nbconvert_exporter": "python",
   "pygments_lexer": "ipython3",
   "version": "3.7.6-final"
  }
 },
 "nbformat": 4,
 "nbformat_minor": 4
}